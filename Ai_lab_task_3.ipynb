{
  "nbformat": 4,
  "nbformat_minor": 0,
  "metadata": {
    "colab": {
      "name": "Ai lab task 3",
      "provenance": [],
      "collapsed_sections": [],
      "authorship_tag": "ABX9TyMmJFe0Mxw4vyUq3rcwnxRr",
      "include_colab_link": true
    },
    "kernelspec": {
      "name": "python3",
      "display_name": "Python 3"
    },
    "language_info": {
      "name": "python"
    }
  },
  "cells": [
    {
      "cell_type": "markdown",
      "metadata": {
        "id": "view-in-github",
        "colab_type": "text"
      },
      "source": [
        "<a href=\"https://colab.research.google.com/github/Mahfuz1234/Lab-task-3/blob/main/Ai_lab_task_3.ipynb\" target=\"_parent\"><img src=\"https://colab.research.google.com/assets/colab-badge.svg\" alt=\"Open In Colab\"/></a>"
      ]
    },
    {
      "cell_type": "code",
      "metadata": {
        "colab": {
          "base_uri": "https://localhost:8080/"
        },
        "id": "PIFxDFQoDcj2",
        "outputId": "1d79c20c-cb6c-4e48-ce5f-0d57121f4bc9"
      },
      "source": [
        "from google.colab import drive\n",
        "drive.mount('/content/gdrive')"
      ],
      "execution_count": null,
      "outputs": [
        {
          "output_type": "stream",
          "name": "stdout",
          "text": [
            "Mounted at /content/gdrive\n"
          ]
        }
      ]
    },
    {
      "cell_type": "code",
      "metadata": {
        "colab": {
          "base_uri": "https://localhost:8080/"
        },
        "id": "zfoJKuxNEX3s",
        "outputId": "52b6c47c-8831-482f-c0bc-a34b2c3d156b"
      },
      "source": [
        "courses = []\n",
        "choice = 'random'\n",
        "def line():\n",
        "    print('---------------------------')\n",
        "\n",
        "def show_menu():\n",
        "    line()\n",
        "    print('MENU')\n",
        "    line()\n",
        "    print('1. Add courses')\n",
        "    print('2. Remove Courses from te list')\n",
        "    print('3. View courses list')\n",
        "    print('4. Exit')\n",
        "    line()\n",
        "    choice = input('Enter your choice: ')\n",
        "    return choice\n",
        "\n",
        "while choice != '4':\n",
        "    choice = show_menu()\n",
        "    if choice == '1':\n",
        "            course = input('Enter the course name: ')\n",
        "            courses.append(course)\n",
        "            print('Courses', course, 'added')\n",
        "    elif choice == '2':\n",
        "        course = input('which courses is done or you want to remove ')\n",
        "        if course in courses:\n",
        "            courses.remove(course)\n",
        "            print('Removed course', course)\n",
        "        else:\n",
        "            print('Could not find course', course)\n",
        "    elif choice == '3':\n",
        "        print('List of your all course:')\n",
        "        for course in courses:\n",
        "            print(course)\n",
        "    elif choice == '4':\n",
        "        print('Goodbye!')\n",
        "    else:\n",
        "        print('Please enter one of 1, 2, 3 ,4 ')"
      ],
      "execution_count": null,
      "outputs": [
        {
          "output_type": "stream",
          "name": "stdout",
          "text": [
            "---------------------------\n",
            "MENU\n",
            "---------------------------\n",
            "1. Add courses\n",
            "2. Remove Courses from te list\n",
            "3. View courses list\n",
            "4. Exit\n",
            "---------------------------\n",
            "Enter your choice: 1\n",
            "Enter the course name: cse110\n",
            "Courses cse110 added\n",
            "---------------------------\n",
            "MENU\n",
            "---------------------------\n",
            "1. Add courses\n",
            "2. Remove Courses from te list\n",
            "3. View courses list\n",
            "4. Exit\n",
            "---------------------------\n",
            "Enter your choice: 1\n",
            "Enter the course name: cse230\n",
            "Courses cse230 added\n",
            "---------------------------\n",
            "MENU\n",
            "---------------------------\n",
            "1. Add courses\n",
            "2. Remove Courses from te list\n",
            "3. View courses list\n",
            "4. Exit\n",
            "---------------------------\n",
            "Enter your choice: 1\n",
            "Enter the course name: cse233\n",
            "Courses cse233 added\n",
            "---------------------------\n",
            "MENU\n",
            "---------------------------\n",
            "1. Add courses\n",
            "2. Remove Courses from te list\n",
            "3. View courses list\n",
            "4. Exit\n",
            "---------------------------\n",
            "Enter your choice: 3\n",
            "List of your all course:\n",
            "cse110\n",
            "cse230\n",
            "cse233\n",
            "---------------------------\n",
            "MENU\n",
            "---------------------------\n",
            "1. Add courses\n",
            "2. Remove Courses from te list\n",
            "3. View courses list\n",
            "4. Exit\n",
            "---------------------------\n",
            "Enter your choice: 2\n",
            "which courses is done or you want to remove cse110\n",
            "Removed course cse110\n",
            "---------------------------\n",
            "MENU\n",
            "---------------------------\n",
            "1. Add courses\n",
            "2. Remove Courses from te list\n",
            "3. View courses list\n",
            "4. Exit\n",
            "---------------------------\n",
            "Enter your choice: 3\n",
            "List of your all course:\n",
            "cse230\n",
            "cse233\n",
            "---------------------------\n",
            "MENU\n",
            "---------------------------\n",
            "1. Add courses\n",
            "2. Remove Courses from te list\n",
            "3. View courses list\n",
            "4. Exit\n",
            "---------------------------\n"
          ]
        }
      ]
    }
  ]
}